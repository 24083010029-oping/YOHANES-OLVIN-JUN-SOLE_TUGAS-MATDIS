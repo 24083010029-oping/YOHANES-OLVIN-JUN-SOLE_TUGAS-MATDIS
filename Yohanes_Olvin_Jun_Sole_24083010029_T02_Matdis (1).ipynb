{
  "nbformat": 4,
  "nbformat_minor": 0,
  "metadata": {
    "colab": {
      "provenance": []
    },
    "kernelspec": {
      "name": "python3",
      "display_name": "Python 3"
    },
    "language_info": {
      "name": "python"
    }
  },
  "cells": [
    {
      "cell_type": "markdown",
      "source": [
        "**Nama: Yohanes Olvin Jun Sole**\n",
        "\n",
        "**NPM: 24083010029**\n",
        "\n",
        "Tugas: Matematika Diskrit"
      ],
      "metadata": {
        "id": "Xq3Ej9_tbz87"
      }
    },
    {
      "cell_type": "markdown",
      "source": [
        "\n",
        "**NO 1**"
      ],
      "metadata": {
        "id": "m37KUQF3cZRA"
      }
    },
    {
      "cell_type": "code",
      "execution_count": null,
      "metadata": {
        "colab": {
          "base_uri": "https://localhost:8080/"
        },
        "id": "i3fSBuPaP3bS",
        "outputId": "bd634181-8cb9-43d1-9488-02eb742a2a06"
      },
      "outputs": [
        {
          "output_type": "stream",
          "name": "stdout",
          "text": [
            "n=0 -> kiri=0, kanan=0, benar? True\n",
            "n=1 -> kiri=1, kanan=1, benar? True\n",
            "n=2 -> kiri=4, kanan=4, benar? True\n",
            "n=3 -> kiri=9, kanan=9, benar? True\n",
            "n=4 -> kiri=16, kanan=16, benar? True\n",
            "n=5 -> kiri=25, kanan=25, benar? True\n",
            "n=6 -> kiri=36, kanan=36, benar? True\n",
            "n=7 -> kiri=49, kanan=49, benar? True\n",
            "n=8 -> kiri=64, kanan=64, benar? True\n",
            "n=9 -> kiri=81, kanan=81, benar? True\n",
            "n=10 -> kiri=100, kanan=100, benar? True\n"
          ]
        }
      ],
      "source": [
        "def cek1(n):\n",
        "    kiri = sum([2*i-1 for i in range(1, n+1)])\n",
        "    kanan = n**2\n",
        "    return kiri, kanan, kiri == kanan\n",
        "\n",
        "# Uji beberapa nilai n\n",
        "for i in range(0, 11):\n",
        "    print(f\"n={i} -> kiri={cek1(i)[0]}, kanan={cek1(i)[1]}, benar? {cek1(i)[2]}\")\n"
      ]
    },
    {
      "cell_type": "markdown",
      "source": [
        "\n",
        "**NO 2**"
      ],
      "metadata": {
        "id": "Ey9kLjWpcdpi"
      }
    },
    {
      "cell_type": "code",
      "source": [
        "def cek2(n):\n",
        "    kiri = sum([2**i for i in range(0, n+1)])\n",
        "    kanan = 2**(n+1) - 1\n",
        "    return kiri, kanan, kiri == kanan\n",
        "\n",
        "# Uji beberapa nilai n\n",
        "for i in range(0, 11):\n",
        "    print(f\"n={i} -> kiri={cek2(i)[0]}, kanan={cek2(i)[1]}, benar? {cek2(i)[2]}\")\n"
      ],
      "metadata": {
        "colab": {
          "base_uri": "https://localhost:8080/"
        },
        "id": "mRAnxUQmQzZH",
        "outputId": "6ab58931-1555-4347-9359-7ad1f8eea98c"
      },
      "execution_count": null,
      "outputs": [
        {
          "output_type": "stream",
          "name": "stdout",
          "text": [
            "n=0 -> kiri=1, kanan=1, benar? True\n",
            "n=1 -> kiri=3, kanan=3, benar? True\n",
            "n=2 -> kiri=7, kanan=7, benar? True\n",
            "n=3 -> kiri=15, kanan=15, benar? True\n",
            "n=4 -> kiri=31, kanan=31, benar? True\n",
            "n=5 -> kiri=63, kanan=63, benar? True\n",
            "n=6 -> kiri=127, kanan=127, benar? True\n",
            "n=7 -> kiri=255, kanan=255, benar? True\n",
            "n=8 -> kiri=511, kanan=511, benar? True\n",
            "n=9 -> kiri=1023, kanan=1023, benar? True\n",
            "n=10 -> kiri=2047, kanan=2047, benar? True\n"
          ]
        }
      ]
    },
    {
      "cell_type": "markdown",
      "source": [
        "\n",
        "**NO 3**"
      ],
      "metadata": {
        "id": "uOWJ8mOSchwW"
      }
    },
    {
      "cell_type": "code",
      "source": [
        "def cek3(n):\n",
        "    kiri = sum([i**2 for i in range(1, n+1)])\n",
        "    kanan = n*(n+1)*(2*n+1)//6\n",
        "    return kiri, kanan, kiri == kanan\n",
        "\n",
        "# Uji beberapa nilai n\n",
        "for i in range(0, 11):\n",
        "    print(f\"n={i} -> kiri={cek3(i)[0]}, kanan={cek3(i)[1]}, benar? {cek3(i)[2]}\")\n"
      ],
      "metadata": {
        "colab": {
          "base_uri": "https://localhost:8080/"
        },
        "id": "wQZeVht0Q4JV",
        "outputId": "c69b52c7-cfa7-4389-ce5d-e325ee9de484"
      },
      "execution_count": null,
      "outputs": [
        {
          "output_type": "stream",
          "name": "stdout",
          "text": [
            "n=0 -> kiri=0, kanan=0, benar? True\n",
            "n=1 -> kiri=1, kanan=1, benar? True\n",
            "n=2 -> kiri=5, kanan=5, benar? True\n",
            "n=3 -> kiri=14, kanan=14, benar? True\n",
            "n=4 -> kiri=30, kanan=30, benar? True\n",
            "n=5 -> kiri=55, kanan=55, benar? True\n",
            "n=6 -> kiri=91, kanan=91, benar? True\n",
            "n=7 -> kiri=140, kanan=140, benar? True\n",
            "n=8 -> kiri=204, kanan=204, benar? True\n",
            "n=9 -> kiri=285, kanan=285, benar? True\n",
            "n=10 -> kiri=385, kanan=385, benar? True\n"
          ]
        }
      ]
    },
    {
      "cell_type": "markdown",
      "source": [
        "\n",
        "**NO 4**"
      ],
      "metadata": {
        "id": "N3OCzy58ck1g"
      }
    },
    {
      "cell_type": "code",
      "source": [
        "import math\n",
        "\n",
        "def cek4(n):\n",
        "    kiri = math.factorial(n)\n",
        "    kanan = 2**(n-1)\n",
        "    return kiri, kanan, kiri >= kanan\n",
        "\n",
        "# Cek untuk n dari 1 sampai 15\n",
        "for i in range(1, 16):\n",
        "    print(f\"n={i} -> n!={cek4(i)[0]}, 2^(n-1)={cek4(i)[1]}, benar? {cek4(i)[2]}\")\n"
      ],
      "metadata": {
        "colab": {
          "base_uri": "https://localhost:8080/"
        },
        "id": "rkkG6oekQ8EZ",
        "outputId": "8fa511ef-5203-4042-d58d-9350394c8359"
      },
      "execution_count": null,
      "outputs": [
        {
          "output_type": "stream",
          "name": "stdout",
          "text": [
            "n=1 -> n!=1, 2^(n-1)=1, benar? True\n",
            "n=2 -> n!=2, 2^(n-1)=2, benar? True\n",
            "n=3 -> n!=6, 2^(n-1)=4, benar? True\n",
            "n=4 -> n!=24, 2^(n-1)=8, benar? True\n",
            "n=5 -> n!=120, 2^(n-1)=16, benar? True\n",
            "n=6 -> n!=720, 2^(n-1)=32, benar? True\n",
            "n=7 -> n!=5040, 2^(n-1)=64, benar? True\n",
            "n=8 -> n!=40320, 2^(n-1)=128, benar? True\n",
            "n=9 -> n!=362880, 2^(n-1)=256, benar? True\n",
            "n=10 -> n!=3628800, 2^(n-1)=512, benar? True\n",
            "n=11 -> n!=39916800, 2^(n-1)=1024, benar? True\n",
            "n=12 -> n!=479001600, 2^(n-1)=2048, benar? True\n",
            "n=13 -> n!=6227020800, 2^(n-1)=4096, benar? True\n",
            "n=14 -> n!=87178291200, 2^(n-1)=8192, benar? True\n",
            "n=15 -> n!=1307674368000, 2^(n-1)=16384, benar? True\n"
          ]
        }
      ]
    },
    {
      "cell_type": "markdown",
      "source": [
        "**NO 5**"
      ],
      "metadata": {
        "id": "KEaNcrKLcojs"
      }
    },
    {
      "cell_type": "code",
      "source": [
        "def cek5(n):\n",
        "    kiri = 2**n\n",
        "    kanan = n**2\n",
        "    return kiri, kanan, kiri > kanan\n",
        "\n",
        "# Cek untuk n dari 1 sampai 15\n",
        "for i in range(1, 16):\n",
        "    print(f\"n={i} -> 2^n={cek5(i)[0]}, n^2={cek5(i)[1]}, benar? {cek5(i)[2]}\")\n"
      ],
      "metadata": {
        "colab": {
          "base_uri": "https://localhost:8080/"
        },
        "id": "ZkRXFwpuRA2B",
        "outputId": "a7f75338-65dc-4abc-9c0e-4e7d71ddc08a"
      },
      "execution_count": null,
      "outputs": [
        {
          "output_type": "stream",
          "name": "stdout",
          "text": [
            "n=1 -> 2^n=2, n^2=1, benar? True\n",
            "n=2 -> 2^n=4, n^2=4, benar? False\n",
            "n=3 -> 2^n=8, n^2=9, benar? False\n",
            "n=4 -> 2^n=16, n^2=16, benar? False\n",
            "n=5 -> 2^n=32, n^2=25, benar? True\n",
            "n=6 -> 2^n=64, n^2=36, benar? True\n",
            "n=7 -> 2^n=128, n^2=49, benar? True\n",
            "n=8 -> 2^n=256, n^2=64, benar? True\n",
            "n=9 -> 2^n=512, n^2=81, benar? True\n",
            "n=10 -> 2^n=1024, n^2=100, benar? True\n",
            "n=11 -> 2^n=2048, n^2=121, benar? True\n",
            "n=12 -> 2^n=4096, n^2=144, benar? True\n",
            "n=13 -> 2^n=8192, n^2=169, benar? True\n",
            "n=14 -> 2^n=16384, n^2=196, benar? True\n",
            "n=15 -> 2^n=32768, n^2=225, benar? True\n"
          ]
        }
      ]
    }
  ]
}